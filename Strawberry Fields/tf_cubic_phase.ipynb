{
 "cells": [
  {
   "cell_type": "markdown",
   "metadata": {},
   "source": [
    "# **Tensorflow: Engineering a Kerr-based Deterministic Cubic Phase Gate via Gaussian Operations in Strawberry Fields**"
   ]
  },
  {
   "cell_type": "markdown",
   "metadata": {},
   "source": [
    "[Tutorial: SF and Optimization](https://strawberryfields.ai/photonics/demos/run_tutorial_machine_learning.html)"
   ]
  },
  {
   "cell_type": "code",
   "execution_count": 41,
   "metadata": {},
   "outputs": [],
   "source": [
    "import strawberryfields as sf\n",
    "from strawberryfields.ops import *\n",
    "import tensorflow as tf\n",
    "import numpy as np"
   ]
  },
  {
   "cell_type": "markdown",
   "metadata": {},
   "source": [
    "Flow:\n",
    "1) set $\\alpha$\n",
    "2) calculate parameters based on $\\alpha$\n",
    "3) run program\n",
    "4) get error\n",
    "5) backpropagate"
   ]
  },
  {
   "cell_type": "code",
   "execution_count": null,
   "metadata": {},
   "outputs": [],
   "source": [
    "# defining constant parameters\n",
    "N = tf.constant(5)\n",
    "cutoff_dim = 30\n",
    "backend = \"tf\"\n",
    "\n",
    "\n",
    "\"\"\" What we change \"\"\"\n",
    "# Cubic Phase Gate\n",
    "gamma = tf.constant(0.7, dtype=tf.float32)  # target gate angle\n",
    "\n",
    "# Squeezing\n",
    "lamdB = tf.constant(14.0, dtype=tf.float32)  # squeezing level in dB\n",
    "\n",
    "# Nonlinearity\n",
    "chi = tf.constant(0.1, dtype=tf.float32)  # nonlinearity strength\n",
    "\n",
    "\"\"\" The variable \"\"\"\n",
    "# Displacement\n",
    "tf_alpha = tf.Variable(4, dtype=tf.float32)  # displacement amplitude\n",
    "\n",
    "\"\"\" Define operations \"\"\"\n",
    "def get_params(alpha):\n",
    "    lam = tf.sqrt(tf.pow(10.0, lamdB / 10.0))     # squeezing parameter\n",
    "    rsq = -tf.math.log(lam)                       # squeezing parameter in r form\n",
    "    sqphi = tf.constant(0.0, dtype=tf.float32)\n",
    "\n",
    "    # Displacement\n",
    "    rd = tf.abs(alpha)                              # displacement amplitude in r form\n",
    "    phi = tf.constant(0.0, dtype=tf.float32)\n",
    "\n",
    "    # Parameters evolving from alpha\n",
    "    detuning = 3.0 * chi * tf.pow(alpha, 2) - chi  # detuning for the cubic phase gate\n",
    "    drive = -2.0 * chi * tf.pow(alpha, 3)          # drive for the cubic phase gate\n",
    "\n",
    "    # Gate time calculations\n",
    "    t = tf.sqrt(2.0) * gamma / (chi * alpha * tf.pow(lam, 3))\n",
    "    dt = t / tf.cast(N, tf.float32)\n",
    "\n",
    "    # Parameters for the cubic phase gate step\n",
    "    nkappa = (chi / 2.0) * dt    # for Kerr gate\n",
    "    nkerrr = (-chi / 2.0) * dt   # rotation for Kerr operator\n",
    "    nrphi = -detuning * dt       # for second rotation\n",
    "    nr = drive * dt              # magnitude of displacement in nonlinear step\n",
    "    ndphi = tf.constant(3 * np.pi / 2, dtype=tf.float32)  # direction angle for displacement\n",
    "    \n",
    "    return rsq, sqphi, rd, phi, chi, nkappa, nkerrr, nrphi, nr, ndphi"
   ]
  },
  {
   "cell_type": "code",
   "execution_count": 46,
   "metadata": {},
   "outputs": [],
   "source": [
    "\"\"\" Find ground truth \"\"\"\n",
    "# Build the target program (ideal cubic phase gate)\n",
    "prog_target = sf.Program(1)\n",
    "with prog_target.context as q:\n",
    "    Vgate(gamma) | q[0]\n",
    "\n",
    "eng_target = sf.Engine(backend=\"tf\", backend_options={\"cutoff_dim\": cutoff_dim})\n",
    "target_state = eng_target.run(prog_target).state\n",
    "\n",
    "\"\"\" Define loss \"\"\"\n",
    "def loss_fn(simstate):\n",
    "    return tf.linalg.norm(simstate.ket() - target_state.ket()) # returns L2 norm of difference"
   ]
  },
  {
   "cell_type": "code",
   "execution_count": 47,
   "metadata": {},
   "outputs": [
    {
     "ename": "ValueError",
     "evalue": "Attempt to convert a value (-0.000277685470438163) with an unsupported type (<class 'sympy.core.numbers.Float'>) to a Tensor.",
     "output_type": "error",
     "traceback": [
      "\u001b[1;31m---------------------------------------------------------------------------\u001b[0m",
      "\u001b[1;31mValueError\u001b[0m                                Traceback (most recent call last)",
      "Cell \u001b[1;32mIn[47], line 39\u001b[0m\n",
      "File \u001b[1;32mc:\\Users\\lukas\\anaconda3\\Lib\\site-packages\\strawberryfields\\engine.py:570\u001b[0m, in \u001b[0;36mLocalEngine.run\u001b[1;34m(self, program, args, compile_options, **kwargs)\u001b[0m\n\u001b[0;32m    565\u001b[0m         \u001b[38;5;28;01mif\u001b[39;00m c\u001b[38;5;241m.\u001b[39mop\u001b[38;5;241m.\u001b[39mmeasurement_deps \u001b[38;5;129;01mand\u001b[39;00m eng_run_options[\u001b[38;5;124m\"\u001b[39m\u001b[38;5;124mshots\u001b[39m\u001b[38;5;124m\"\u001b[39m] \u001b[38;5;241m>\u001b[39m \u001b[38;5;241m1\u001b[39m:\n\u001b[0;32m    566\u001b[0m             \u001b[38;5;28;01mraise\u001b[39;00m \u001b[38;5;167;01mNotImplementedError\u001b[39;00m(\n\u001b[0;32m    567\u001b[0m                 \u001b[38;5;124m\"\u001b[39m\u001b[38;5;124mFeed-forwarding of measurements cannot be used together with multiple shots.\u001b[39m\u001b[38;5;124m\"\u001b[39m\n\u001b[0;32m    568\u001b[0m             )\n\u001b[1;32m--> 570\u001b[0m \u001b[38;5;28;01mreturn\u001b[39;00m \u001b[38;5;28msuper\u001b[39m()\u001b[38;5;241m.\u001b[39m_run(\n\u001b[0;32m    571\u001b[0m     program_lst, args\u001b[38;5;241m=\u001b[39margs, compile_options\u001b[38;5;241m=\u001b[39mcompile_options, \u001b[38;5;241m*\u001b[39m\u001b[38;5;241m*\u001b[39meng_run_options\n\u001b[0;32m    572\u001b[0m )\n",
      "File \u001b[1;32mc:\\Users\\lukas\\anaconda3\\Lib\\site-packages\\strawberryfields\\engine.py:306\u001b[0m, in \u001b[0;36mBaseEngine._run\u001b[1;34m(self, program, args, compile_options, **kwargs)\u001b[0m\n\u001b[0;32m    303\u001b[0m p\u001b[38;5;241m.\u001b[39mbind_params(args)\n\u001b[0;32m    304\u001b[0m p\u001b[38;5;241m.\u001b[39mlock()\n\u001b[1;32m--> 306\u001b[0m _, \u001b[38;5;28mself\u001b[39m\u001b[38;5;241m.\u001b[39msamples, \u001b[38;5;28mself\u001b[39m\u001b[38;5;241m.\u001b[39msamples_dict \u001b[38;5;241m=\u001b[39m \u001b[38;5;28mself\u001b[39m\u001b[38;5;241m.\u001b[39m_run_program(p, \u001b[38;5;241m*\u001b[39m\u001b[38;5;241m*\u001b[39mkwargs)\n\u001b[0;32m    307\u001b[0m \u001b[38;5;28mself\u001b[39m\u001b[38;5;241m.\u001b[39mrun_progs\u001b[38;5;241m.\u001b[39mappend(p)\n\u001b[0;32m    309\u001b[0m \u001b[38;5;28;01mif\u001b[39;00m \u001b[38;5;28misinstance\u001b[39m(p, TDMProgram) \u001b[38;5;129;01mand\u001b[39;00m received_rolled:\n",
      "File \u001b[1;32mc:\\Users\\lukas\\anaconda3\\Lib\\site-packages\\strawberryfields\\engine.py:430\u001b[0m, in \u001b[0;36mLocalEngine._run_program\u001b[1;34m(self, prog, **kwargs)\u001b[0m\n\u001b[0;32m    427\u001b[0m \u001b[38;5;28;01mfor\u001b[39;00m cmd \u001b[38;5;129;01min\u001b[39;00m prog\u001b[38;5;241m.\u001b[39mcircuit:\n\u001b[0;32m    428\u001b[0m     \u001b[38;5;28;01mtry\u001b[39;00m:\n\u001b[0;32m    429\u001b[0m         \u001b[38;5;66;03m# try to apply it to the backend and, if op is a measurement, store it in values\u001b[39;00m\n\u001b[1;32m--> 430\u001b[0m         val \u001b[38;5;241m=\u001b[39m cmd\u001b[38;5;241m.\u001b[39mop\u001b[38;5;241m.\u001b[39mapply(cmd\u001b[38;5;241m.\u001b[39mreg, \u001b[38;5;28mself\u001b[39m\u001b[38;5;241m.\u001b[39mbackend, \u001b[38;5;241m*\u001b[39m\u001b[38;5;241m*\u001b[39mkwargs)\n\u001b[0;32m    431\u001b[0m         \u001b[38;5;28;01mif\u001b[39;00m val \u001b[38;5;129;01mis\u001b[39;00m \u001b[38;5;129;01mnot\u001b[39;00m \u001b[38;5;28;01mNone\u001b[39;00m:\n\u001b[0;32m    432\u001b[0m             \u001b[38;5;28;01mfor\u001b[39;00m i, r \u001b[38;5;129;01min\u001b[39;00m \u001b[38;5;28menumerate\u001b[39m(cmd\u001b[38;5;241m.\u001b[39mreg):\n",
      "File \u001b[1;32mc:\\Users\\lukas\\anaconda3\\Lib\\site-packages\\strawberryfields\\ops.py:508\u001b[0m, in \u001b[0;36mGate.apply\u001b[1;34m(self, reg, backend, **kwargs)\u001b[0m\n\u001b[0;32m    506\u001b[0m temp \u001b[38;5;241m=\u001b[39m [rr\u001b[38;5;241m.\u001b[39mind \u001b[38;5;28;01mfor\u001b[39;00m rr \u001b[38;5;129;01min\u001b[39;00m reg]\n\u001b[0;32m    507\u001b[0m \u001b[38;5;66;03m# call the child class specialized _apply method\u001b[39;00m\n\u001b[1;32m--> 508\u001b[0m \u001b[38;5;28mself\u001b[39m\u001b[38;5;241m.\u001b[39m_apply(temp, backend, \u001b[38;5;241m*\u001b[39m\u001b[38;5;241m*\u001b[39mkwargs)\n\u001b[0;32m    509\u001b[0m \u001b[38;5;28mself\u001b[39m\u001b[38;5;241m.\u001b[39mp[\u001b[38;5;241m0\u001b[39m] \u001b[38;5;241m=\u001b[39m original_p0\n",
      "File \u001b[1;32mc:\\Users\\lukas\\anaconda3\\Lib\\site-packages\\strawberryfields\\ops.py:1854\u001b[0m, in \u001b[0;36mRgate._apply\u001b[1;34m(self, reg, backend, **kwargs)\u001b[0m\n\u001b[0;32m   1852\u001b[0m \u001b[38;5;28;01mdef\u001b[39;00m \u001b[38;5;21m_apply\u001b[39m(\u001b[38;5;28mself\u001b[39m, reg, backend, \u001b[38;5;241m*\u001b[39m\u001b[38;5;241m*\u001b[39mkwargs):\n\u001b[0;32m   1853\u001b[0m     p \u001b[38;5;241m=\u001b[39m par_evaluate(\u001b[38;5;28mself\u001b[39m\u001b[38;5;241m.\u001b[39mp)\n\u001b[1;32m-> 1854\u001b[0m     backend\u001b[38;5;241m.\u001b[39mrotation(p[\u001b[38;5;241m0\u001b[39m], \u001b[38;5;241m*\u001b[39mreg)\n",
      "File \u001b[1;32mc:\\Users\\lukas\\anaconda3\\Lib\\site-packages\\strawberryfields\\backends\\tfbackend\\backend.py:184\u001b[0m, in \u001b[0;36mTFBackend.rotation\u001b[1;34m(self, phi, mode)\u001b[0m\n\u001b[0;32m    182\u001b[0m \u001b[38;5;28;01mwith\u001b[39;00m tf\u001b[38;5;241m.\u001b[39mname_scope(\u001b[38;5;124m\"\u001b[39m\u001b[38;5;124mRotation\u001b[39m\u001b[38;5;124m\"\u001b[39m):\n\u001b[0;32m    183\u001b[0m     remapped_mode \u001b[38;5;241m=\u001b[39m \u001b[38;5;28mself\u001b[39m\u001b[38;5;241m.\u001b[39m_remap_modes(mode)\n\u001b[1;32m--> 184\u001b[0m     \u001b[38;5;28mself\u001b[39m\u001b[38;5;241m.\u001b[39mcircuit\u001b[38;5;241m.\u001b[39mphase_shift(phi, remapped_mode)\n",
      "File \u001b[1;32mc:\\Users\\lukas\\anaconda3\\Lib\\site-packages\\strawberryfields\\backends\\tfbackend\\circuit.py:428\u001b[0m, in \u001b[0;36mCircuit.phase_shift\u001b[1;34m(self, theta, mode)\u001b[0m\n\u001b[0;32m    424\u001b[0m \u001b[38;5;28;01mdef\u001b[39;00m \u001b[38;5;21mphase_shift\u001b[39m(\u001b[38;5;28mself\u001b[39m, theta, mode):\n\u001b[0;32m    425\u001b[0m \u001b[38;5;250m    \u001b[39m\u001b[38;5;124;03m\"\"\"\u001b[39;00m\n\u001b[0;32m    426\u001b[0m \u001b[38;5;124;03m    Apply the phase-shift operator to the specified mode.\u001b[39;00m\n\u001b[0;32m    427\u001b[0m \u001b[38;5;124;03m    \"\"\"\u001b[39;00m\n\u001b[1;32m--> 428\u001b[0m     theta \u001b[38;5;241m=\u001b[39m \u001b[38;5;28mself\u001b[39m\u001b[38;5;241m.\u001b[39m_maybe_batch(theta)\n\u001b[0;32m    429\u001b[0m     new_state \u001b[38;5;241m=\u001b[39m ops\u001b[38;5;241m.\u001b[39mphase_shifter(\n\u001b[0;32m    430\u001b[0m         theta,\n\u001b[0;32m    431\u001b[0m         mode,\n\u001b[1;32m   (...)\u001b[0m\n\u001b[0;32m    436\u001b[0m         dtype\u001b[38;5;241m=\u001b[39m\u001b[38;5;28mself\u001b[39m\u001b[38;5;241m.\u001b[39m_dtype,\n\u001b[0;32m    437\u001b[0m     )\n\u001b[0;32m    438\u001b[0m     \u001b[38;5;28mself\u001b[39m\u001b[38;5;241m.\u001b[39m_update_state(new_state)\n",
      "File \u001b[1;32mc:\\Users\\lukas\\anaconda3\\Lib\\site-packages\\strawberryfields\\backends\\tfbackend\\circuit.py:147\u001b[0m, in \u001b[0;36mCircuit._maybe_batch\u001b[1;34m(self, param, convert_to_tensor)\u001b[0m\n\u001b[0;32m    145\u001b[0m shape_err \u001b[38;5;241m=\u001b[39m \u001b[38;5;28;01mFalse\u001b[39;00m\n\u001b[0;32m    146\u001b[0m \u001b[38;5;28;01mif\u001b[39;00m convert_to_tensor:\n\u001b[1;32m--> 147\u001b[0m     p \u001b[38;5;241m=\u001b[39m tf\u001b[38;5;241m.\u001b[39mconvert_to_tensor(param)\n\u001b[0;32m    148\u001b[0m     \u001b[38;5;28;01mif\u001b[39;00m \u001b[38;5;129;01mnot\u001b[39;00m \u001b[38;5;28mself\u001b[39m\u001b[38;5;241m.\u001b[39m_batched:\n\u001b[0;32m    149\u001b[0m         broadcast_p \u001b[38;5;241m=\u001b[39m p\n",
      "File \u001b[1;32mc:\\Users\\lukas\\anaconda3\\Lib\\site-packages\\tensorflow\\python\\util\\traceback_utils.py:153\u001b[0m, in \u001b[0;36mfilter_traceback.<locals>.error_handler\u001b[1;34m(*args, **kwargs)\u001b[0m\n\u001b[0;32m    151\u001b[0m \u001b[38;5;28;01mexcept\u001b[39;00m \u001b[38;5;167;01mException\u001b[39;00m \u001b[38;5;28;01mas\u001b[39;00m e:\n\u001b[0;32m    152\u001b[0m   filtered_tb \u001b[38;5;241m=\u001b[39m _process_traceback_frames(e\u001b[38;5;241m.\u001b[39m__traceback__)\n\u001b[1;32m--> 153\u001b[0m   \u001b[38;5;28;01mraise\u001b[39;00m e\u001b[38;5;241m.\u001b[39mwith_traceback(filtered_tb) \u001b[38;5;28;01mfrom\u001b[39;00m \u001b[38;5;28;01mNone\u001b[39;00m\n\u001b[0;32m    154\u001b[0m \u001b[38;5;28;01mfinally\u001b[39;00m:\n\u001b[0;32m    155\u001b[0m   \u001b[38;5;28;01mdel\u001b[39;00m filtered_tb\n",
      "File \u001b[1;32mc:\\Users\\lukas\\anaconda3\\Lib\\site-packages\\tensorflow\\python\\framework\\constant_op.py:108\u001b[0m, in \u001b[0;36mconvert_to_eager_tensor\u001b[1;34m(value, ctx, dtype)\u001b[0m\n\u001b[0;32m    106\u001b[0m     dtype \u001b[38;5;241m=\u001b[39m dtypes\u001b[38;5;241m.\u001b[39mas_dtype(dtype)\u001b[38;5;241m.\u001b[39mas_datatype_enum\n\u001b[0;32m    107\u001b[0m ctx\u001b[38;5;241m.\u001b[39mensure_initialized()\n\u001b[1;32m--> 108\u001b[0m \u001b[38;5;28;01mreturn\u001b[39;00m ops\u001b[38;5;241m.\u001b[39mEagerTensor(value, ctx\u001b[38;5;241m.\u001b[39mdevice_name, dtype)\n",
      "\u001b[1;31mValueError\u001b[0m: Attempt to convert a value (-0.000277685470438163) with an unsupported type (<class 'sympy.core.numbers.Float'>) to a Tensor."
     ]
    }
   ],
   "source": [
    "# initialize engine and program objects\n",
    "eng = sf.Engine(backend=\"tf\", backend_options={\"cutoff_dim\": cutoff_dim})\n",
    "prog = sf.Program(1)\n",
    "\n",
    "# define parametrization of circuit\n",
    "rsq, sqphi, rd, phi, chi, nkappa, nkerrr, nrphi, nr, ndphi = prog.params(\"rsq\", \"sqphi\", \"rd\", \"phi\", \"chi\", \"nkappa\", \"nkerrr\", \"nrphi\", \"nr\", \"ndphi\")\n",
    "\n",
    "# define program\n",
    "with prog.context as q:\n",
    "        # Direct operations: squeezing then displacement\n",
    "        Sgate(rsq, sqphi) | q[0]\n",
    "        Dgate(rd, phi) | q[0]\n",
    "        \n",
    "        # Nonlinear step(s)\n",
    "        for i in range(N):\n",
    "            Rgate(nkerrr) | q[0]\n",
    "            Kgate(nkappa) | q[0]\n",
    "            Rgate(nrphi) | q[0]\n",
    "            Dgate(nr, ndphi) | q[0]\n",
    "        \n",
    "        # Inverse operations: displacement then squeezing\n",
    "        Dgate(-rd, phi) | q[0]\n",
    "        Sgate(-rsq, sqphi) | q[0]\n",
    "\n",
    "opt = tf.keras.optimizers.Adam(learning_rate=0.01)\n",
    "steps = 50\n",
    "\n",
    "for step in range(steps):\n",
    "\n",
    "    # reset the engine if it has already been executed\n",
    "    if eng.run_progs:\n",
    "        eng.reset()\n",
    "\n",
    "    with tf.GradientTape() as tape:\n",
    "        # calculate parameters\n",
    "        rsq, sqphi, rd, phi, chi, nkappa, nkerrr, nrphi, nr, ndphi = get_params(tf_alpha)\n",
    "\n",
    "        # execute the engine\n",
    "        simstate = eng.run(prog, args={\"rsq\": rsq, \"sqphi\": sqphi, \"rd\": rd, \"phi\": phi, \"chi\": chi, \"nkappa\": nkappa, \"nkerrr\": nkerrr, \"nrphi\": nrphi, \"nr\": nr, \"ndphi\": ndphi}).state\n",
    "        # get the probability of fock state |1>\n",
    "        loss = loss_fn(simstate)\n",
    "\n",
    "    gradients = tape.gradient(loss, [tf_alpha])\n",
    "    opt.apply_gradients(zip(gradients, [tf_alpha]))\n",
    "    print(\"Error at step {}: {}\".format(step, loss.numpy()))\n",
    "\n"
   ]
  }
 ],
 "metadata": {
  "kernelspec": {
   "display_name": "base",
   "language": "python",
   "name": "python3"
  },
  "language_info": {
   "codemirror_mode": {
    "name": "ipython",
    "version": 3
   },
   "file_extension": ".py",
   "mimetype": "text/x-python",
   "name": "python",
   "nbconvert_exporter": "python",
   "pygments_lexer": "ipython3",
   "version": "3.11.7"
  }
 },
 "nbformat": 4,
 "nbformat_minor": 2
}
